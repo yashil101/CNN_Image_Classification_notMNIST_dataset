{
 "cells": [
  {
   "cell_type": "markdown",
   "metadata": {
    "collapsed": true
   },
   "source": [
    "## Introduction - notMNIST\n",
    "The **MNIST** dataset is one of the most popular dataset for learning image classification problems. The **notMNIST** dataset in similar to original MNIST dataset but is considered a bit more **challenging** than its classic version. The dataset is obtained from Kaggle website [here](https://www.kaggle.com/jwjohnson314/notmnist-example/data) and can also be found in its original form on davidflanagan github repo along with its licensing information.\n"
   ]
  },
  {
   "cell_type": "markdown",
   "metadata": {},
   "source": [
    "## Problem Context\n",
    "\n",
    "The notMNIST dataset can be used for multiclass image classification task for classifying letters from A through J. The dataset comes in two versions - notMNIST(**small**) and notMNIST(**large**). The smaller dataset consists of hand-cleaned version with 18726 images and with 0.5% label error rate. The larger dataset is the original uncleaned version with 529119 images and about 6.5% label error rate. "
   ]
  },
  {
   "cell_type": "markdown",
   "metadata": {},
   "source": [
    "In this project, we will try to build model a simple model using sklearn SVM classifier and compare its performance with a **deep learning CNN** model built using high level **keras API** for image classification. For our trial models, we will be using the smaller version of notMNIST dataset and then we will deploy the model with better performance on the larger version of the dataset and see how well it performs on the uncleaned version of this dataset. "
   ]
  },
  {
   "cell_type": "markdown",
   "metadata": {},
   "source": [
    "#### Importing useful libraries "
   ]
  },
  {
   "cell_type": "code",
   "execution_count": 115,
   "metadata": {},
   "outputs": [],
   "source": [
    "import numpy as np\n",
    "import pandas as pd\n",
    "import os\n",
    "import time\n",
    "import matplotlib.pyplot as plt\n",
    "\n",
    "from PIL import Image\n",
    "from sklearn.preprocessing import MultiLabelBinarizer\n",
    "from sklearn.model_selection import train_test_split\n",
    "\n",
    "from sklearn.svm import SVC\n",
    "from sklearn.model_selection import GridSearchCV\n",
    "\n",
    "from sklearn.metrics import accuracy_score,f1_score\n",
    "from sklearn.metrics import classification_report\n",
    "from sklearn.metrics import confusion_matrix\n",
    "\n",
    "import keras\n",
    "from keras.models import Model\n",
    "from keras.layers import Input,Dense,Dropout\n",
    "from keras.layers import Reshape, Flatten\n",
    "from keras.layers import Conv2D,MaxPooling2D\n",
    "from keras.models import Sequential\n"
   ]
  },
  {
   "cell_type": "markdown",
   "metadata": {},
   "source": [
    "#### Importing all image files\n",
    "Along with loading images in numpy array, we will also attach labels associated to them and finally resize the stored images in a 1-D array."
   ]
  },
  {
   "cell_type": "code",
   "execution_count": 116,
   "metadata": {
    "collapsed": true
   },
   "outputs": [],
   "source": [
    "X=[]\n",
    "labels=[]\n",
    "base_path='notMNIST_small'\n",
    "\n",
    "for directory in os.listdir(base_path):\n",
    "    for image in os.listdir(base_path+'/'+directory):\n",
    "        try:\n",
    "            file_path=base_path+'/'+directory+'/'+image\n",
    "            img=Image.open(file_path)\n",
    "            img.load()\n",
    "            img_data=np.asarray(img,dtype=np.int16)\n",
    "            X.append(img_data)\n",
    "            labels.append(directory)\n",
    "        except:\n",
    "            None"
   ]
  },
  {
   "cell_type": "markdown",
   "metadata": {},
   "source": [
    "Before we proceed towards building our models, we need to randomize our image files by random shuffling to avoid any elements of bias/patterns and make sure that our models remains general."
   ]
  },
  {
   "cell_type": "code",
   "execution_count": 125,
   "metadata": {
    "collapsed": true
   },
   "outputs": [],
   "source": [
    "temp=list(zip(X,labels))\n",
    "np.random.shuffle(temp)\n",
    "X,labels=zip(*temp)\n",
    "X, labels = np.asarray(X), np.asarray(labels)"
   ]
  },
  {
   "cell_type": "markdown",
   "metadata": {},
   "source": [
    "Lets take a look at some of the images we are working with to gain an insight of the type of images we are working with."
   ]
  },
  {
   "cell_type": "code",
   "execution_count": 126,
   "metadata": {},
   "outputs": [
    {
     "data": {
      "image/png": "[encoded data removed]",
      "text/plain": [
       "<matplotlib.figure.Figure at 0x2001a949ef0>"
      ]
     },
     "metadata": {},
     "output_type": "display_data"
    }
   ],
   "source": [
    "#Plotting some samples images\n",
    "num_rows, num_cols = 2, 5\n",
    "fig, ax = plt.subplots(num_rows, num_cols,sharex=True,sharey=True)\n",
    "\n",
    "ax=ax.flatten()\n",
    "\n",
    "for i in range(10):\n",
    "    ax[i].imshow(X[i],cmap='Greys',interpolation='nearest')\n",
    "    ax[i].set_title((i+1,labels[i]))\n",
    "\n",
    "plt.tight_layout()\n",
    "plt.show()"
   ]
  },
  {
   "cell_type": "markdown",
   "metadata": {},
   "source": [
    "All the images seems fine except the ninth image which is labeled as **B** but is definetely **not B**. Lets see how our classifiers performs while dealing with such images."
   ]
  },
  {
   "cell_type": "markdown",
   "metadata": {},
   "source": [
    "As mentioned previously, the first model we are using is SVM. It should be noted that to train our SVM on a set of images, we are first required to construct the training matrix for the SVM. Each row in this matrix corresponds to one image which is reshaped from two dimensional to one dimensional numpy array and each element in that row corresponds to one feature of the class that we wish to classify."
   ]
  },
  {
   "cell_type": "code",
   "execution_count": 127,
   "metadata": {
    "collapsed": true
   },
   "outputs": [],
   "source": [
    "N=len(X)\n",
    "img_size=len(X[0])\n",
    "X=np.asarray(X).reshape(len(labels),img_size*img_size)"
   ]
  },
  {
   "cell_type": "code",
   "execution_count": 128,
   "metadata": {},
   "outputs": [
    {
     "data": {
      "text/plain": [
       "(18724, 784)"
      ]
     },
     "execution_count": 128,
     "metadata": {},
     "output_type": "execute_result"
    }
   ],
   "source": [
    "X.shape"
   ]
  },
  {
   "cell_type": "markdown",
   "metadata": {},
   "source": [
    "Next, we need to split our dataset in training and test set. For this, we would use 75% of the images for training and 25% images for model performance evaluation."
   ]
  },
  {
   "cell_type": "code",
   "execution_count": 129,
   "metadata": {
    "collapsed": true
   },
   "outputs": [],
   "source": [
    "X_train,X_test,y_train,y_test=train_test_split(X,labels,\n",
    "                                               test_size=0.25,\n",
    "                                               random_state=0)"
   ]
  },
  {
   "cell_type": "code",
   "execution_count": 130,
   "metadata": {},
   "outputs": [
    {
     "name": "stdout",
     "output_type": "stream",
     "text": [
      "(14043, 784)\n",
      "(4681, 784)\n",
      "(14043,)\n",
      "(4681,)\n"
     ]
    }
   ],
   "source": [
    "print(X_train.shape)\n",
    "print(X_test.shape)\n",
    "print(y_train.shape)\n",
    "print(y_test.shape)"
   ]
  },
  {
   "cell_type": "code",
   "execution_count": 131,
   "metadata": {},
   "outputs": [
    {
     "data": {
      "text/plain": [
       "10"
      ]
     },
     "execution_count": 131,
     "metadata": {},
     "output_type": "execute_result"
    }
   ],
   "source": [
    "classes=np.unique(y_train)\n",
    "nclasses=len(classes)\n",
    "nclasses"
   ]
  },
  {
   "cell_type": "markdown",
   "metadata": {},
   "source": [
    "To fit SVM for our image classification task, lets employ a grid search"
   ]
  },
  {
   "cell_type": "code",
   "execution_count": null,
   "metadata": {},
   "outputs": [],
   "source": [
    "\n",
    "param_grid = {'C' : [0.1, 1],\n",
    "              'kernel':['rbf','linear']}\n",
    "\n",
    "model_svc = GridSearchCV(SVC(random_state=0),\n",
    "                         param_grid=param_grid,\n",
    "                         scoring='accuracy',\n",
    "                         verbose=1,n_jobs=-1)\n",
    "\n",
    "start=time.time()\n",
    "model_svc.fit(X_train,y_train)\n",
    "end=time.time()\n",
    "\n",
    "print(\"Training Complete\\n\")\n",
    "\n",
    "print('Time Taken to train SVC : ',(end-start))\n",
    "\n",
    "print('Best SVM Parameter Set: %s'%model_svc.best_params_)\n",
    "\n",
    "svc_predictions=model_svc.predict(X_test)\n",
    "\n",
    "print('Model_1 SVM Accuracy Score : %.3f ' %(accuracy_score(y_test,svc_predictions,normalize=True)))\n",
    "print('Model_1 F1 Score : %.3f ' %(f1_score(y_test,svc_predictions,average='micro')))\n",
    "print('Model_1 Classification Report\\n' ,classification_report(y_test,svc_predictions))"
   ]
  },
  {
   "cell_type": "markdown",
   "metadata": {},
   "source": [
    "The SVM classifier gave us an accuracy and f1-score of 85.5% with linear kernel and 'C' value as 1."
   ]
  },
  {
   "cell_type": "code",
   "execution_count": null,
   "metadata": {
    "collapsed": true
   },
   "outputs": [],
   "source": [
    "import matplotlib.pyplot as plt\n",
    "from sklearn.metrics import confusion_matrix\n",
    "\n",
    "plt.imshow(confusion_matrix(y_test,svc_predictions),\n",
    "           interpolation='nearest',cmap=plt.cm.Blues)\n",
    "plt.title('Confusion Matrix for SVM')\n",
    "plt.colorbar()\n",
    "plt.xticks(np.arange(len(set(Score))), set(Score), rotation=45  )\n",
    "plt.yticks(np.arange(len(set(Score))), set(Score),rotation=45  )\n",
    "plt.tight_layout()\n",
    "plt.ylabel('True label')\n",
    "plt.xlabel('Predicted label')\n",
    "np.set_printoptions(precision=2)\n",
    "plt.figure()\n",
    "\n",
    "plt.show()"
   ]
  },
  {
   "cell_type": "markdown",
   "metadata": {},
   "source": [
    "Lets try to plot the decision boundaries for our classification with SVM."
   ]
  },
  {
   "cell_type": "code",
   "execution_count": null,
   "metadata": {
    "collapsed": true
   },
   "outputs": [],
   "source": [
    "#Pending---plotting svm decision boundary\n",
    "import matplotlib.pyplot as plt\n",
    "\n",
    "h=0.02\n",
    "x_min,x_max=X_train[:,0].min()-1,X[:,0].max()+1\n",
    "y_min,y_max=X[:,1].min()-1,X[:,1].max()+1\n",
    "xx,yy=np.meshgrid(np.arange(x_min,x_max,h),\n",
    "                  np.arange(y_min,y_max,h))\n",
    "\n",
    "titles=['SVC:linear']\n",
    "\n",
    "plt.set_cmap(pl.cm.Paired)\n",
    "\n",
    "Z=model_svc.predict(np.c_[xx.ravel(),yy.ravel()])\n",
    "Z=Z.reshape(xx.shape)\n",
    "plt.counterf(xx,yy,Z)\n",
    "plt.axis('tight')\n",
    "plt.scatter(X[:,0],X[:,1],c=Y)\n",
    "plt.title('SVC:Linear')\n",
    "plt.axis('tight')\n",
    "plt.show()"
   ]
  },
  {
   "cell_type": "markdown",
   "metadata": {},
   "source": [
    "We have seen that SVM were able to give us an accuracy score of 85.5%. Next we will use a deep CNN network which are widely used for image classification and computer vision problems."
   ]
  },
  {
   "cell_type": "markdown",
   "metadata": {},
   "source": [
    "## Deep Learning and Computer Vision"
   ]
  },
  {
   "cell_type": "markdown",
   "metadata": {},
   "source": [
    "To implement a model for computer vision problem, we will build a convolutional neural network- **CNN** using convolutional and pooling layers which will serve the purpose of feature extraction from our images. These layers will be followed by fully connected layers which will perform non-linear transformations on the features extracted. We will also include Dropout as a form of regularization to prevent our model from overfitting."
   ]
  },
  {
   "cell_type": "markdown",
   "metadata": {},
   "source": [
    "Note that categorical labels in our dataset needs to be converted to numerical form in order to feed our data to the neural network. For this purpose, we ill use **MultiLabelBinarizer** method from sklearn library."
   ]
  },
  {
   "cell_type": "code",
   "execution_count": 132,
   "metadata": {},
   "outputs": [
    {
     "data": {
      "text/plain": [
       "array([[0, 0, 1, ..., 0, 0, 0],\n",
       "       [0, 0, 0, ..., 0, 1, 0],\n",
       "       [0, 0, 0, ..., 1, 0, 0],\n",
       "       ..., \n",
       "       [0, 0, 0, ..., 0, 0, 0],\n",
       "       [0, 1, 0, ..., 0, 0, 0],\n",
       "       [0, 0, 0, ..., 0, 0, 0]])"
      ]
     },
     "execution_count": 132,
     "metadata": {},
     "output_type": "execute_result"
    }
   ],
   "source": [
    "le=MultiLabelBinarizer()\n",
    "labels_enc=le.fit_transform(labels)\n",
    "labels_enc"
   ]
  },
  {
   "cell_type": "markdown",
   "metadata": {},
   "source": [
    "Also, we can feed our CNN model with 2-D images directly. Hence lets convert our flattened images back into their original form and split our dataset in 90% training and 10% test sets."
   ]
  },
  {
   "cell_type": "code",
   "execution_count": 135,
   "metadata": {
    "collapsed": true
   },
   "outputs": [],
   "source": [
    "X=np.asarray(X).reshape(N,28,28,1)\n",
    "X_train,X_test,y_train,y_test=train_test_split(X,labels_enc, \n",
    "                                               test_size=0.1,\n",
    "                                               random_state=0)"
   ]
  },
  {
   "cell_type": "code",
   "execution_count": 136,
   "metadata": {},
   "outputs": [
    {
     "name": "stdout",
     "output_type": "stream",
     "text": [
      "(16851, 28, 28, 1)\n",
      "(16851, 10)\n",
      "(1873, 28, 28, 1)\n",
      "(1873, 10)\n"
     ]
    }
   ],
   "source": [
    "print(X_train.shape)\n",
    "print(y_train.shape)\n",
    "print(X_test.shape)\n",
    "print(y_test.shape)"
   ]
  },
  {
   "cell_type": "markdown",
   "metadata": {},
   "source": [
    "### CNN Model description\n",
    "We will be using 6 convolutional layers followed by 1 fully connected layer. The first two layers will have 16 and 32 filters respectively of filter size as 3X3 and 'Relu' activation (no padding) followed by a max-pooling layer with pool size as 2X2. The following two layers will have 32 and 64 filters respectively of filter size as 3X3 and 'Relu' activation (no padding) followed by a max-pooling layer with pool size as 2X2. The last convolutional layers will have two layers with 64 and 128 filters respectively of filter size as 3X3 and 'Relu' activation (no padding) followed by a max-pooling layer with pool size as 2X2. All the blocks (A block here is two convolutional layers followed by a pooling layer) will add a dropout layer with dropout ratio of 0.3.\n",
    "The final layers consists of a fully connected layer with 'Relu' activation, dropout layer with dropout ratio of 0.5 and a fully connected dense layer which performs classification using a softmax function among our 10 classes."
   ]
  },
  {
   "cell_type": "code",
   "execution_count": 140,
   "metadata": {
    "collapsed": true
   },
   "outputs": [],
   "source": [
    "shape=X[0].shape\n",
    "nClasses=10\n",
    "def createModel():\n",
    "    model = Sequential()\n",
    "    model.add(Conv2D(16, (3, 3), padding='same', activation='relu', input_shape=shape))\n",
    "    model.add(Conv2D(32, (3, 3), activation='relu'))\n",
    "    model.add(MaxPooling2D(pool_size=(2, 2)))\n",
    "    model.add(Dropout(0.3))\n",
    " \n",
    "    model.add(Conv2D(32, (3, 3), padding='same', activation='relu'))\n",
    "    model.add(Conv2D(64, (3, 3), activation='relu'))\n",
    "    model.add(MaxPooling2D(pool_size=(2, 2)))\n",
    "    model.add(Dropout(0.3))\n",
    " \n",
    "    model.add(Conv2D(64, (3, 3), padding='same', activation='relu'))\n",
    "    model.add(Conv2D(128, (3, 3), activation='relu'))\n",
    "    model.add(MaxPooling2D(pool_size=(2, 2)))\n",
    "    model.add(Dropout(0.3))\n",
    " \n",
    "    model.add(Flatten())\n",
    "    model.add(Dense(512, activation='relu'))\n",
    "    model.add(Dropout(0.5))\n",
    "    model.add(Dense(nClasses, activation='softmax'))\n",
    "     \n",
    "    return model"
   ]
  },
  {
   "cell_type": "markdown",
   "metadata": {},
   "source": [
    "To check the summary of our model, we can first compile the model and call summary method to see the shapes of each layer. Also, the summary method lists out the total number of parameters that we need to fit to train our model."
   ]
  },
  {
   "cell_type": "code",
   "execution_count": 141,
   "metadata": {},
   "outputs": [
    {
     "name": "stdout",
     "output_type": "stream",
     "text": [
      "_________________________________________________________________\n",
      "Layer (type)                 Output Shape              Param #   \n",
      "=================================================================\n",
      "conv2d_119 (Conv2D)          (None, 28, 28, 16)        160       \n",
      "_________________________________________________________________\n",
      "conv2d_120 (Conv2D)          (None, 26, 26, 32)        4640      \n",
      "_________________________________________________________________\n",
      "max_pooling2d_61 (MaxPooling (None, 13, 13, 32)        0         \n",
      "_________________________________________________________________\n",
      "dropout_82 (Dropout)         (None, 13, 13, 32)        0         \n",
      "_________________________________________________________________\n",
      "conv2d_121 (Conv2D)          (None, 13, 13, 32)        9248      \n",
      "_________________________________________________________________\n",
      "conv2d_122 (Conv2D)          (None, 11, 11, 64)        18496     \n",
      "_________________________________________________________________\n",
      "max_pooling2d_62 (MaxPooling (None, 5, 5, 64)          0         \n",
      "_________________________________________________________________\n",
      "dropout_83 (Dropout)         (None, 5, 5, 64)          0         \n",
      "_________________________________________________________________\n",
      "conv2d_123 (Conv2D)          (None, 5, 5, 64)          36928     \n",
      "_________________________________________________________________\n",
      "conv2d_124 (Conv2D)          (None, 3, 3, 128)         73856     \n",
      "_________________________________________________________________\n",
      "max_pooling2d_63 (MaxPooling (None, 1, 1, 128)         0         \n",
      "_________________________________________________________________\n",
      "dropout_84 (Dropout)         (None, 1, 1, 128)         0         \n",
      "_________________________________________________________________\n",
      "flatten_22 (Flatten)         (None, 128)               0         \n",
      "_________________________________________________________________\n",
      "dense_43 (Dense)             (None, 512)               66048     \n",
      "_________________________________________________________________\n",
      "dropout_85 (Dropout)         (None, 512)               0         \n",
      "_________________________________________________________________\n",
      "dense_44 (Dense)             (None, 10)                5130      \n",
      "=================================================================\n",
      "Total params: 214,506\n",
      "Trainable params: 214,506\n",
      "Non-trainable params: 0\n",
      "_________________________________________________________________\n"
     ]
    }
   ],
   "source": [
    "cnn=createModel()\n",
    "cnn.compile(optimizer='rmsprop',loss='categorical_crossentropy',\n",
    "             metrics=['accuracy'])\n",
    "cnn.summary()"
   ]
  },
  {
   "cell_type": "markdown",
   "metadata": {},
   "source": [
    "By looking at model summary, we can deduce that second conv layer shrinks by 2 pixels in both dimensions. Also, the output size after pooling layer decreases by half since we have used a stride of 2 and a window size of 2X2. The final droupout layer has an output of 1X1X128. This has to be converted to a single array which is accomplished by the flatten layer. The final layer has 10 nodes since there are 10 classes."
   ]
  },
  {
   "cell_type": "code",
   "execution_count": 142,
   "metadata": {},
   "outputs": [
    {
     "name": "stdout",
     "output_type": "stream",
     "text": [
      "Train on 16851 samples, validate on 1873 samples\n",
      "Epoch 1/10\n",
      "16851/16851 [==============================] - 45s 3ms/step - loss: 1.1825 - acc: 0.6209 - val_loss: 0.4697 - val_acc: 0.8478\n",
      "Epoch 2/10\n",
      "16851/16851 [==============================] - 40s 2ms/step - loss: 0.4290 - acc: 0.8764 - val_loss: 0.3060 - val_acc: 0.9028\n",
      "Epoch 3/10\n",
      "16851/16851 [==============================] - 40s 2ms/step - loss: 0.3390 - acc: 0.9009 - val_loss: 0.2734 - val_acc: 0.9172\n",
      "Epoch 4/10\n",
      "16851/16851 [==============================] - 39s 2ms/step - loss: 0.2993 - acc: 0.9137 - val_loss: 0.2647 - val_acc: 0.9226\n",
      "Epoch 5/10\n",
      "16851/16851 [==============================] - 42s 2ms/step - loss: 0.2734 - acc: 0.9209 - val_loss: 0.2739 - val_acc: 0.9263\n",
      "Epoch 6/10\n",
      "16851/16851 [==============================] - 42s 3ms/step - loss: 0.2603 - acc: 0.9247 - val_loss: 0.2480 - val_acc: 0.9221\n",
      "Epoch 7/10\n",
      "16851/16851 [==============================] - 42s 2ms/step - loss: 0.2499 - acc: 0.9282 - val_loss: 0.2254 - val_acc: 0.9327\n",
      "Epoch 8/10\n",
      "16851/16851 [==============================] - 42s 2ms/step - loss: 0.2416 - acc: 0.9294 - val_loss: 0.2171 - val_acc: 0.9333\n",
      "Epoch 9/10\n",
      "16851/16851 [==============================] - 41s 2ms/step - loss: 0.2482 - acc: 0.9304 - val_loss: 0.2176 - val_acc: 0.9375\n",
      "Epoch 10/10\n",
      "16851/16851 [==============================] - 42s 3ms/step - loss: 0.2389 - acc: 0.9313 - val_loss: 0.1957 - val_acc: 0.9423\n",
      "CNN Training Complete\n",
      "\n",
      "Time Taken to train CNN  415.2540831565857 sec\n"
     ]
    }
   ],
   "source": [
    "start=time.time()\n",
    "model=cnn.fit(X_train,y_train,epochs=10,\n",
    "         batch_size=64,validation_data=[X_test,y_test],\n",
    "         verbose=1)\n",
    "end=time.time()\n",
    "print('CNN Training Complete\\n')\n",
    "print('Time Taken to train CNN ',(end-start),'sec')"
   ]
  },
  {
   "cell_type": "code",
   "execution_count": 143,
   "metadata": {},
   "outputs": [
    {
     "name": "stdout",
     "output_type": "stream",
     "text": [
      "Loss: 0.19573060351931598\n",
      "Accuracy: 94.0%\n"
     ]
    }
   ],
   "source": [
    "score = cnn.evaluate(X_test, y_test, verbose=False)\n",
    "print('Loss: {}'.format(score[0]))\n",
    "print('Accuracy: {}%'.format(np.round(100*score[1])))"
   ]
  },
  {
   "cell_type": "markdown",
   "metadata": {},
   "source": [
    "We achieved an accuracy score of 94% which means that our CNN model has generalized very well. Also, this score is very impressise as compared to our SVM model we built earlier in this project. This verifies the fact that CNN model can perform really better for image classification and computer vision problems as compared to traditional classifiers such as SVM. "
   ]
  },
  {
   "cell_type": "markdown",
   "metadata": {},
   "source": [
    "We can plot the model accuracy history to see how the accuracy of train and validation data model improved over the epochs in our model. "
   ]
  },
  {
   "cell_type": "code",
   "execution_count": 144,
   "metadata": {},
   "outputs": [
    {
     "data": {
      "image/png": "[encoded data removed]",
      "text/plain": [
       "<matplotlib.figure.Figure at 0x200222a3358>"
      ]
     },
     "metadata": {},
     "output_type": "display_data"
    }
   ],
   "source": [
    "plt.figure(figsize=[8,6])\n",
    "plt.plot(model.history['acc'],'r',linewidth=3.0)\n",
    "plt.plot(model.history['val_acc'],'b',linewidth=3.0)\n",
    "plt.legend(['Training Accuracy', 'Validation Accuracy'],fontsize=18)\n",
    "plt.xlabel('Epochs ',fontsize=16)\n",
    "plt.ylabel('Accuracy',fontsize=16)\n",
    "plt.title('Accuracy Curves',fontsize=16)\n",
    "plt.show()"
   ]
  },
  {
   "cell_type": "code",
   "execution_count": null,
   "metadata": {
    "collapsed": true
   },
   "outputs": [],
   "source": []
  }
 ],
 "metadata": {
  "kernelspec": {
   "display_name": "Python 3",
   "language": "python",
   "name": "python3"
  },
  "language_info": {
   "codemirror_mode": {
    "name": "ipython",
    "version": 3
   },
   "file_extension": ".py",
   "mimetype": "text/x-python",
   "name": "python",
   "nbconvert_exporter": "python",
   "pygments_lexer": "ipython3",
   "version": "3.6.3"
  }
 },
 "nbformat": 4,
 "nbformat_minor": 2
}
